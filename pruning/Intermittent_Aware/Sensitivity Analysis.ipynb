{
 "cells": [
  {
   "cell_type": "markdown",
   "id": "a7af8185",
   "metadata": {},
   "source": [
    "# Setup Model"
   ]
  },
  {
   "cell_type": "code",
   "execution_count": 1,
   "id": "c3447f67",
   "metadata": {},
   "outputs": [
    {
     "name": "stdout",
     "output_type": "stream",
     "text": [
      "Defaulting to user installation because normal site-packages is not writeable\n",
      "Requirement already satisfied: torch in /home/chia/.local/lib/python3.8/site-packages (1.10.0)\n",
      "Requirement already satisfied: numpy in /home/chia/.local/lib/python3.8/site-packages (1.19.4)\n",
      "Requirement already satisfied: scipy in /home/chia/.local/lib/python3.8/site-packages (1.6.3)\n",
      "Requirement already satisfied: torchsummary in /home/chia/.local/lib/python3.8/site-packages (1.5.1)\n",
      "Requirement already satisfied: datasets in /home/chia/.local/lib/python3.8/site-packages (1.17.0)\n",
      "Requirement already satisfied: torchvision in /home/chia/.local/lib/python3.8/site-packages (0.11.1)\n",
      "Requirement already satisfied: more-itertools in /home/chia/.local/lib/python3.8/site-packages (8.8.0)\n",
      "Requirement already satisfied: matplotlib in /home/chia/.local/lib/python3.8/site-packages (3.4.1)\n",
      "Requirement already satisfied: typing-extensions in /home/chia/.local/lib/python3.8/site-packages (from torch) (3.7.4.3)\n",
      "Requirement already satisfied: xxhash in /home/chia/.local/lib/python3.8/site-packages (from datasets) (2.0.2)\n",
      "Requirement already satisfied: pyarrow!=4.0.0,>=3.0.0 in /home/chia/.local/lib/python3.8/site-packages (from datasets) (6.0.1)\n",
      "Requirement already satisfied: requests>=2.19.0 in /usr/lib/python3/dist-packages (from datasets) (2.22.0)\n",
      "Requirement already satisfied: aiohttp in /home/chia/.local/lib/python3.8/site-packages (from datasets) (3.8.1)\n",
      "Requirement already satisfied: huggingface-hub<1.0.0,>=0.1.0 in /home/chia/.local/lib/python3.8/site-packages (from datasets) (0.4.0)\n",
      "Requirement already satisfied: tqdm>=4.62.1 in /home/chia/.local/lib/python3.8/site-packages (from datasets) (4.62.3)\n",
      "Requirement already satisfied: dill in /home/chia/.local/lib/python3.8/site-packages (from datasets) (0.3.4)\n",
      "Requirement already satisfied: fsspec[http]>=2021.05.0 in /home/chia/.local/lib/python3.8/site-packages (from datasets) (2022.1.0)\n",
      "Requirement already satisfied: pandas in /home/chia/.local/lib/python3.8/site-packages (from datasets) (1.2.3)\n",
      "Requirement already satisfied: multiprocess in /home/chia/.local/lib/python3.8/site-packages (from datasets) (0.70.12.2)\n",
      "Requirement already satisfied: packaging in /home/chia/.local/lib/python3.8/site-packages (from datasets) (20.9)\n",
      "Requirement already satisfied: filelock in /usr/local/lib/python3.8/dist-packages (from huggingface-hub<1.0.0,>=0.1.0->datasets) (3.4.2)\n",
      "Requirement already satisfied: pyyaml in /usr/lib/python3/dist-packages (from huggingface-hub<1.0.0,>=0.1.0->datasets) (5.3.1)\n",
      "Requirement already satisfied: pyparsing>=2.0.2 in /home/chia/.local/lib/python3.8/site-packages (from packaging->datasets) (2.4.7)\n",
      "Requirement already satisfied: pillow!=8.3.0,>=5.3.0 in /usr/lib/python3/dist-packages (from torchvision) (7.0.0)\n",
      "Requirement already satisfied: kiwisolver>=1.0.1 in /home/chia/.local/lib/python3.8/site-packages (from matplotlib) (1.3.1)\n",
      "Requirement already satisfied: python-dateutil>=2.7 in /usr/lib/python3/dist-packages (from matplotlib) (2.7.3)\n",
      "Requirement already satisfied: cycler>=0.10 in /home/chia/.local/lib/python3.8/site-packages (from matplotlib) (0.10.0)\n",
      "Requirement already satisfied: six in /home/chia/.local/lib/python3.8/site-packages (from cycler>=0.10->matplotlib) (1.15.0)\n",
      "Requirement already satisfied: frozenlist>=1.1.1 in /home/chia/.local/lib/python3.8/site-packages (from aiohttp->datasets) (1.2.0)\n",
      "Requirement already satisfied: attrs>=17.3.0 in /home/chia/.local/lib/python3.8/site-packages (from aiohttp->datasets) (21.4.0)\n",
      "Requirement already satisfied: multidict<7.0,>=4.5 in /home/chia/.local/lib/python3.8/site-packages (from aiohttp->datasets) (5.2.0)\n",
      "Requirement already satisfied: yarl<2.0,>=1.0 in /home/chia/.local/lib/python3.8/site-packages (from aiohttp->datasets) (1.7.2)\n",
      "Requirement already satisfied: async-timeout<5.0,>=4.0.0a3 in /home/chia/.local/lib/python3.8/site-packages (from aiohttp->datasets) (4.0.2)\n",
      "Requirement already satisfied: charset-normalizer<3.0,>=2.0 in /home/chia/.local/lib/python3.8/site-packages (from aiohttp->datasets) (2.0.10)\n",
      "Requirement already satisfied: aiosignal>=1.1.2 in /home/chia/.local/lib/python3.8/site-packages (from aiohttp->datasets) (1.2.0)\n",
      "Requirement already satisfied: idna>=2.0 in /usr/lib/python3/dist-packages (from yarl<2.0,>=1.0->aiohttp->datasets) (2.8)\n",
      "Requirement already satisfied: pytz>=2017.3 in /usr/lib/python3/dist-packages (from pandas->datasets) (2019.3)\n",
      "\u001b[33mWARNING: You are using pip version 21.1.2; however, version 21.3.1 is available.\n",
      "You should consider upgrading via the '/usr/bin/python -m pip install --upgrade pip' command.\u001b[0m\n"
     ]
    }
   ],
   "source": [
    "!pip install torch numpy scipy torchsummary datasets torchvision more-itertools matplotlib"
   ]
  },
  {
   "cell_type": "code",
   "execution_count": 2,
   "id": "dc711338",
   "metadata": {},
   "outputs": [],
   "source": [
    "import torch\n",
    "import torch.nn as nn\n",
    "import numpy as np\n",
    "import matplotlib.pyplot as plt\n",
    "import os\n",
    "import sys\n",
    "\n",
    "cwd = os.getcwd() \n",
    "sys.path.append(cwd+'/../')\n",
    "from util import *\n",
    "from torchvision import datasets, transforms\n",
    "from torch.autograd import Variable\n",
    "from itertools import chain"
   ]
  },
  {
   "cell_type": "code",
   "execution_count": 3,
   "id": "ff572618",
   "metadata": {},
   "outputs": [],
   "source": [
    "class LeNet_5(nn.Module):\n",
    "    def __init__(self):\n",
    "        super(LeNet_5, self).__init__()\n",
    "        # self.prune = prune\n",
    "        self.conv1 = nn.Conv2d(1, 8, kernel_size=5, stride=1, padding=(2,2))                                                                                                                          \n",
    "        self.relu_conv1 = nn.ReLU(inplace=True)\n",
    "        self.pool1 = nn.MaxPool2d(kernel_size=2, stride=2)\n",
    "        self.conv2 = nn.Conv2d(8, 16, kernel_size=5, stride=1, padding=(2,2))\n",
    "        self.relu_conv2 = nn.ReLU(inplace=True)\n",
    "        self.pool2 = nn.MaxPool2d(kernel_size=3, stride=3)\n",
    "          \n",
    "        self.ip1 = nn.Linear(16*4*4, 256)\n",
    "        self.relu_ip1 = nn.ReLU(inplace=True)\n",
    "        self.ip2 = nn.Linear(256, 10)\n",
    "        return\n",
    "          \n",
    "    def forward(self, x):\n",
    "        x = self.conv1(x)\n",
    "        x = self.relu_conv1(x)\n",
    "        x = self.pool1(x)\n",
    "        x = self.conv2(x)\n",
    "        x = self.relu_conv2(x)\n",
    "        x = self.pool2(x)\n",
    "          \n",
    "        x = x.view(x.size(0), 16*4*4)\n",
    "          \n",
    "        x = self.ip1(x)\n",
    "        x = self.relu_ip1(x)\n",
    "        x = self.ip2(x)\n",
    "        return x"
   ]
  },
  {
   "cell_type": "code",
   "execution_count": 4,
   "id": "d3646318",
   "metadata": {},
   "outputs": [],
   "source": [
    "model = LeNet_5()\n",
    "# print('Model: {}'.format(model))"
   ]
  },
  {
   "cell_type": "code",
   "execution_count": 5,
   "id": "bdab25a2",
   "metadata": {},
   "outputs": [],
   "source": [
    "path = 'saved_models/LeNet_5.origin.pth.tar'\n",
    "pretrained_model = torch.load(path)\n",
    "# print('Pretrained Mode: {}'.format(pretrained_model))"
   ]
  },
  {
   "cell_type": "code",
   "execution_count": 6,
   "id": "56d89f6e",
   "metadata": {},
   "outputs": [],
   "source": [
    "best_acc = pretrained_model['acc']\n",
    "load_state(model, pretrained_model['state_dict'])\n",
    "# print('best_acc: {}'.format(best_acc))\n",
    "# print(model)"
   ]
  },
  {
   "cell_type": "markdown",
   "id": "31295746",
   "metadata": {},
   "source": [
    "# Save weights"
   ]
  },
  {
   "cell_type": "code",
   "execution_count": 7,
   "id": "d8a57a36",
   "metadata": {},
   "outputs": [],
   "source": [
    "weights = []\n",
    "org_layers = []\n",
    "for m in model.children():\n",
    "    if isinstance(m, nn.Conv2d) or isinstance(m, nn.Linear):\n",
    "        weights.append(m.weight)\n",
    "        org_layers.append(m)\n",
    "# print('Weights: {}'.format(weights))\n",
    "# print('layers: {}'.format(org_layers))"
   ]
  },
  {
   "cell_type": "markdown",
   "id": "b20a2b3a",
   "metadata": {},
   "source": [
    "# Get the gradient of each weight"
   ]
  },
  {
   "cell_type": "code",
   "execution_count": 8,
   "id": "4521e432",
   "metadata": {
    "scrolled": true
   },
   "outputs": [],
   "source": [
    "kwargs = {}\n",
    "\n",
    "train_loader = torch.utils.data.DataLoader(\n",
    "            datasets.MNIST('data', train=True, download=True,\n",
    "                transform=transforms.Compose([\n",
    "                    transforms.ToTensor(),\n",
    "                    transforms.Normalize((0.1307,), (0.3081,))\n",
    "                    ])),\n",
    "                batch_size=128, shuffle=True, **kwargs)\n",
    "criterion = nn.CrossEntropyLoss()\n",
    "\n",
    "def getGrad(train_loader, model, criterion, weights):\n",
    "    model.eval()\n",
    "    grad_one = [torch.zeros(w.size()) for w in weights]\n",
    "    for batch_idx, (inputs, target) in enumerate(train_loader):\n",
    "        inputs, target = Variable(inputs), Variable(target)\n",
    "        inputs.requires_grad_(True)\n",
    "        output = model(inputs)\n",
    "        loss = criterion(output, target)\n",
    "        grad_params_1 = torch.autograd.grad(loss, weights)\n",
    "        \n",
    "        for j, gp in enumerate(grad_params_1):\n",
    "            grad_one[j] += gp\n",
    "            \n",
    "    grad_one = [g / len(train_loader) for g in grad_one]\n",
    "    return grad_one\n",
    "        \n",
    "grads = getGrad(train_loader, model, criterion, weights)\n",
    "# print('Grad: {}'.format(grads))"
   ]
  },
  {
   "cell_type": "code",
   "execution_count": 9,
   "id": "b1799450",
   "metadata": {},
   "outputs": [],
   "source": [
    "def getI(model, org_layers, grads):\n",
    "    res = []\n",
    "    for i in range(len(org_layers)):\n",
    "        res.append(torch.pow(grads[i] * org_layers[i].weight, 2))\n",
    "    return res\n",
    "\n",
    "I = getI(model, org_layers, grads)\n",
    "# print('I: {}'.format(I))\n",
    "    "
   ]
  },
  {
   "cell_type": "code",
   "execution_count": 10,
   "id": "ae0ef6c7",
   "metadata": {},
   "outputs": [],
   "source": [
    "group_size = [1, 1, 1, 5]\n",
    "def grouping(I, group = [1, 1, 1, 5]): # group size: one row\n",
    "    I_groups = []\n",
    "    for i in range(len(I)):\n",
    "        layer = I[i]\n",
    "        layer = layer.reshape(-1).data\n",
    "        layer = np.add.reduceat(layer, np.arange(0, len(layer), group[3]))\n",
    "        I_groups.append(layer)\n",
    "    return I_groups\n",
    "I_groups = grouping(I, group_size)\n",
    "# print('I_groups: {}'.format(I_groups))"
   ]
  },
  {
   "cell_type": "code",
   "execution_count": 19,
   "id": "5d22b4f4",
   "metadata": {},
   "outputs": [
    {
     "name": "stdout",
     "output_type": "stream",
     "text": [
      "jobs: [31360, 125440, 13107, 512]\n",
      "total job: 170419\n",
      "output size: [[28, 28], [14, 14], [1, 256], [1, 256]]\n",
      "Per group jon: [784, 196, 1, 1]\n"
     ]
    }
   ],
   "source": [
    "input_sizes = [[1,1,28,28], [1,8,14,14], [16*4*4, 256], [256, 10]]\n",
    "output_sizes = []\n",
    "def getJob(model, group_size, input_sizes):\n",
    "    idx = 0\n",
    "    jobs = []\n",
    "    total_job = 0\n",
    "    per_group_job = []\n",
    "    for m in model.children():\n",
    "        if isinstance(m, nn.Conv2d) or isinstance(m, nn.Linear):\n",
    "            if len(m.weight.shape) == 4:\n",
    "                input_size = input_sizes[idx]\n",
    "                kernel_size = m.weight.shape[2:]\n",
    "                padding = m.padding\n",
    "                stride = m.stride\n",
    "                out_h = int((input_size[2] + 2 * padding[0] - kernel_size[0])/stride[0] + 1)\n",
    "                out_w = int((input_size[3] + 2 * padding[1] - kernel_size[1])/stride[1] + 1)\n",
    "                output_sizes.append([out_h, out_w])\n",
    "                per_group_job.append(out_h * out_w)\n",
    "                n_weights = np.prod(m.weight.shape)\n",
    "                job = int(n_weights * out_h * out_w / np.prod(group_size))\n",
    "                jobs.append(job)\n",
    "                total_job += job\n",
    "                idx += 1\n",
    "            elif len(m.weight.shape) == 2:\n",
    "                n_weights = np.prod(m.weight.shape)\n",
    "                output_sizes.append([1, m.weight.shape[1]])\n",
    "                job = int(n_weights / np.prod(group_size))\n",
    "                jobs.append(job)\n",
    "                per_group_job.append(1)\n",
    "                total_job += job\n",
    "                idx += 1\n",
    "    return jobs, total_job, per_group_job\n",
    "\n",
    "jobs, total_job, per_group_job = getJob(model, group_size, input_sizes)\n",
    "print('jobs: {}'.format(jobs))\n",
    "print('total job: {}'.format(total_job))\n",
    "print('output size: {}'.format(output_sizes))\n",
    "print('Per group jon: {}'.format(per_group_job))"
   ]
  },
  {
   "cell_type": "code",
   "execution_count": 20,
   "id": "279828e1",
   "metadata": {},
   "outputs": [],
   "source": [
    "metrics_sort = []\n",
    "for i in range(len(I_groups)):\n",
    "    layer = I_groups[i]\n",
    "    metric_sort = sorted(range(len(layer)), key=lambda idx : layer[idx])\n",
    "    metrics_sort.append(metric_sort)\n",
    "# print('Metrics_sorted: {}'.format(metrics_sort))"
   ]
  },
  {
   "cell_type": "code",
   "execution_count": 50,
   "id": "aa5b07ed",
   "metadata": {},
   "outputs": [],
   "source": [
    "acc_I = []\n",
    "percentages = []\n",
    "for i in range(len(metrics_sort)):\n",
    "    acc = np.array(I_groups[i])[metrics_sort[i]]\n",
    "    for j in range(len(acc) - 1):\n",
    "        acc[j + 1] += acc[j]\n",
    "    acc /= per_group_job[i]\n",
    "#     sum = acc[-1]\n",
    "#     acc /= sum\n",
    "    percentage = np.linspace(0, 100, len(acc))\n",
    "    percentages.append(percentage)\n",
    "    acc_I.append(acc)\n",
    "# print('acc: {}'.format(acc_I))"
   ]
  },
  {
   "cell_type": "code",
   "execution_count": 51,
   "id": "01644a33",
   "metadata": {},
   "outputs": [
    {
     "data": {
      "text/plain": [
       "[<matplotlib.lines.Line2D at 0x7f466024a4f0>]"
      ]
     },
     "execution_count": 51,
     "metadata": {},
     "output_type": "execute_result"
    },
    {
     "data": {
      "image/png": "[encoded data removed]",
      "text/plain": [
       "<Figure size 432x288 with 1 Axes>"
      ]
     },
     "metadata": {
      "needs_background": "light"
     },
     "output_type": "display_data"
    }
   ],
   "source": [
    "plt.plot(percentages[0], acc_I[0].data)"
   ]
  },
  {
   "cell_type": "code",
   "execution_count": 52,
   "id": "2281265d",
   "metadata": {},
   "outputs": [
    {
     "data": {
      "text/plain": [
       "[<matplotlib.lines.Line2D at 0x7f4660162490>]"
      ]
     },
     "execution_count": 52,
     "metadata": {},
     "output_type": "execute_result"
    },
    {
     "data": {
      "image/png": "[encoded data removed]",
      "text/plain": [
       "<Figure size 432x288 with 1 Axes>"
      ]
     },
     "metadata": {
      "needs_background": "light"
     },
     "output_type": "display_data"
    }
   ],
   "source": [
    "plt.plot(percentages[1], acc_I[1].data)"
   ]
  },
  {
   "cell_type": "code",
   "execution_count": 53,
   "id": "1838c685",
   "metadata": {},
   "outputs": [
    {
     "data": {
      "text/plain": [
       "[<matplotlib.lines.Line2D at 0x7f466013f820>]"
      ]
     },
     "execution_count": 53,
     "metadata": {},
     "output_type": "execute_result"
    },
    {
     "data": {
      "image/png": "[encoded data removed]",
      "text/plain": [
       "<Figure size 432x288 with 1 Axes>"
      ]
     },
     "metadata": {
      "needs_background": "light"
     },
     "output_type": "display_data"
    }
   ],
   "source": [
    "plt.plot(percentages[2], acc_I[2].data)"
   ]
  },
  {
   "cell_type": "code",
   "execution_count": 54,
   "id": "420114c9",
   "metadata": {},
   "outputs": [
    {
     "data": {
      "text/plain": [
       "[<matplotlib.lines.Line2D at 0x7f46600a9070>]"
      ]
     },
     "execution_count": 54,
     "metadata": {},
     "output_type": "execute_result"
    },
    {
     "data": {
      "image/png": "[encoded data removed]",
      "text/plain": [
       "<Figure size 432x288 with 1 Axes>"
      ]
     },
     "metadata": {
      "needs_background": "light"
     },
     "output_type": "display_data"
    }
   ],
   "source": [
    "plt.plot(percentages[3], acc_I[3].data)"
   ]
  },
  {
   "cell_type": "code",
   "execution_count": 55,
   "id": "5b8842a6",
   "metadata": {},
   "outputs": [
    {
     "name": "stdout",
     "output_type": "stream",
     "text": [
      "============================================================================================\n",
      "Remain: 126124\n",
      "Ideal remain job: 153377\n",
      "threshold: 0.0\n",
      "Total Prun: 0.1\n",
      "Pruning Ratio: [0.0, 31.25, 38.86939273725969, 0.0]\n",
      "============================================================================================\n",
      "Remain: 126124\n",
      "Ideal remain job: 136335\n",
      "threshold: 0.0\n",
      "Total Prun: 0.2\n",
      "Pruning Ratio: [0.0, 31.25, 38.86939273725969, 0.0]\n",
      "============================================================================================\n",
      "Remain: 119120\n",
      "Ideal remain job: 119293\n",
      "threshold: 5.073377423566925e-16\n",
      "Total Prun: 0.3\n",
      "Pruning Ratio: [0.0, 35.625, 50.32041501373207, 2.9296875]\n",
      "============================================================================================\n",
      "Remain: 102059\n",
      "Ideal remain job: 102251\n",
      "threshold: 2.8506320567944776e-13\n",
      "Total Prun: 0.4\n",
      "Pruning Ratio: [7.5, 46.5625, 57.57552639609399, 10.3515625]\n",
      "============================================================================================\n",
      "Remain: 85063\n",
      "Ideal remain job: 85209\n",
      "threshold: 1.835597429264424e-12\n",
      "Total Prun: 0.5\n",
      "Pruning Ratio: [22.5, 55.93749999999999, 61.42813548977723, 15.625]\n",
      "============================================================================================\n",
      "Remain: 68016\n",
      "Ideal remain job: 68167\n",
      "threshold: 5.605888149518012e-12\n",
      "Total Prun: 0.6\n",
      "Pruning Ratio: [37.5, 65.46875, 64.18980775099176, 20.5078125]\n",
      "============================================================================================\n",
      "Remain: 50805\n",
      "Ideal remain job: 51125\n",
      "threshold: 1.3800045307876818e-11\n",
      "Total Prun: 0.7\n",
      "Pruning Ratio: [52.5, 75.15625, 66.69972535855966, 25.5859375]\n",
      "============================================================================================\n",
      "Remain: 33930\n",
      "Ideal remain job: 34083\n",
      "threshold: 3.3794779474849435e-11\n",
      "Total Prun: 0.8\n",
      "Pruning Ratio: [67.5, 84.53125, 69.56057369545316, 32.6171875]\n",
      "============================================================================================\n",
      "Remain: 17041\n",
      "Ideal remain job: 17041\n",
      "threshold: 7.488388381604594e-11\n",
      "Total Prun: 0.9\n",
      "Pruning Ratio: [85.0, 93.28125, 72.52059810802564, 39.84375]\n",
      "============================================================================================\n",
      "Remain: 8490\n",
      "Ideal remain job: 8520\n",
      "threshold: 1.2887396705352216e-10\n",
      "Total Prun: 0.95\n",
      "Pruning Ratio: [92.5, 97.96875, 74.74061641745499, 45.3125]\n"
     ]
    }
   ],
   "source": [
    "total_pruning_ratio = 0.6\n",
    "def getPruningRatio(acc_I, total_pruning_ratio, total_job, jobs, per_group_job, threshold = 0):\n",
    "    total_acc = list(chain.from_iterable(acc_I))\n",
    "    total_acc.sort()\n",
    "    PR = []\n",
    "    indices = []\n",
    "    remain_job = total_job\n",
    "    ideal_job = int(total_job * (1 - total_pruning_ratio))\n",
    "    for threshold in total_acc:\n",
    "        PR = []\n",
    "        indices = []\n",
    "        for i in range(len(acc_I)):\n",
    "            iters = iter(idx for idx, val in enumerate(acc_I[i]) if val > threshold)\n",
    "            first_greater_than_idx = next(iters, -1)\n",
    "            if first_greater_than_idx == -1:\n",
    "                print('Layer {} is exhausted iteration'.format(i + 1))\n",
    "                first_greater_than_idx = len(acc_I[i])\n",
    "            PR.append(first_greater_than_idx / len(acc_I[i]) * 100)\n",
    "            indices.append(first_greater_than_idx)\n",
    "        remain_jobs = jobs - np.array(indices) * np.array(per_group_job)\n",
    "        remain_job = 0\n",
    "        for job in remain_jobs:\n",
    "            remain_job += job\n",
    "        if(remain_job <= ideal_job):\n",
    "            break\n",
    "#         print(threshold)\n",
    "    print('Remain: {}'.format(remain_job))\n",
    "    print('Ideal remain job: {}'.format(ideal_job))\n",
    "    print('threshold: {}'.format(threshold))\n",
    "    return PR, indices\n",
    "\n",
    "for ratio in [0.1, 0.2, 0.3, 0.4, 0.5, 0.6, 0.7, 0.8, 0.9, 0.95]:\n",
    "    print('============================================================================================')\n",
    "    PR, indices = getPruningRatio(acc_I, ratio, total_job, jobs, per_group_job)\n",
    "    print('Total Prun: {}'.format(ratio))\n",
    "    print('Pruning Ratio: {}'.format(PR))\n",
    "#     print('Indice'indices)"
   ]
  },
  {
   "cell_type": "code",
   "execution_count": null,
   "id": "304cc774",
   "metadata": {},
   "outputs": [],
   "source": []
  }
 ],
 "metadata": {
  "kernelspec": {
   "display_name": "Python 3 (ipykernel)",
   "language": "python",
   "name": "python3"
  },
  "language_info": {
   "codemirror_mode": {
    "name": "ipython",
    "version": 3
   },
   "file_extension": ".py",
   "mimetype": "text/x-python",
   "name": "python",
   "nbconvert_exporter": "python",
   "pygments_lexer": "ipython3",
   "version": "3.8.10"
  }
 },
 "nbformat": 4,
 "nbformat_minor": 5
}
